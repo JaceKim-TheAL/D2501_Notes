{
 "cells": [
  {
   "cell_type": "markdown",
   "id": "719a59c7",
   "metadata": {},
   "source": [
    "# Decorator\n",
    "- 다른 function의 기능을 조작하여 새로운 function을 만드는 것.\n",
    "- 이 방법은 코드를 더욱 간결하게 만들며, 더욱 Pythonic 한 코드를 만들 수 있다\n",
    "- 이러한 형태의 일종의 코드 Refactoring 및 중복 줄이기는 소프트웨어 공학에서 매우 중요하다!\n"
   ]
  },
  {
   "cell_type": "markdown",
   "id": "1665d2b0",
   "metadata": {},
   "source": [
    "### Decoration을 안 한 초보 파이썬 코더의 코드\n",
    "> - 기존의 코드를 사용 안 하고, b_function()을 새롭게 정의함.\n",
    "> - 이렇게 하면 문제가, my foul smell을 삭제하고 싶으면, 함수 2개에서 모두 삭제해야한다. \n",
    "> - 코드의 중복이 생김."
   ]
  },
  {
   "cell_type": "code",
   "execution_count": 1,
   "id": "804f799a",
   "metadata": {},
   "outputs": [],
   "source": [
    "def a_function_requiring_decoration(): \n",
    "    print(\"I am the function which needs some decoration to remove my foul smell\") "
   ]
  },
  {
   "cell_type": "code",
   "execution_count": 2,
   "id": "12e584dc",
   "metadata": {},
   "outputs": [],
   "source": [
    "def b_function(): \n",
    "    print(\"1. I am doing some boring work before executing a_func()\") \n",
    "    print(\"2. I am the function which needs some decoration to remove my foul smell\")   \n",
    "    print(\"3. I am doing some boring work after executing a_func()\")"
   ]
  },
  {
   "cell_type": "code",
   "execution_count": 3,
   "id": "5056c88e",
   "metadata": {},
   "outputs": [
    {
     "name": "stdout",
     "output_type": "stream",
     "text": [
      "1. I am doing some boring work before executing a_func()\n",
      "2. I am the function which needs some decoration to remove my foul smell\n",
      "3. I am doing some boring work after executing a_func()\n"
     ]
    }
   ],
   "source": [
    "b_function()"
   ]
  },
  {
   "cell_type": "markdown",
   "id": "3df9c88f",
   "metadata": {},
   "source": [
    "`이 방법의 문제점은 코드의 중복이 생겨 수정이 필요할 시에 두 함수 모두를 수정해야한다는 것이다. `\n"
   ]
  },
  {
   "cell_type": "markdown",
   "id": "d1c9d0df",
   "metadata": {},
   "source": [
    "### 간단한 Decoration의 구현 "
   ]
  },
  {
   "cell_type": "code",
   "execution_count": 4,
   "id": "f890e471",
   "metadata": {},
   "outputs": [],
   "source": [
    "# 아래 함수를 기능을 추가해서 decoration 해주는 함수\n",
    "def a_new_decorator(a_func):\n",
    "    \n",
    "    # 함수 안에 함수를 정의하고 함수를 리턴한다\n",
    "    def wrapTheFunction():\n",
    "        print(\"1-1. I am doing some boring work before executing a_func()\") \n",
    "        a_func() \n",
    "        print(\"1-2. I am doing some boring work after executing a_func()\")\n",
    "\n",
    "    # 리턴된 함수는 a_func()를 감싸고 있다\n",
    "    # 따라서 a_func()를 호출하면 wrapTheFunction()이 실행된다\n",
    "    return wrapTheFunction\n",
    "\n",
    "# 이 함수를 decoration (기능을 추가) 하고 싶음\n",
    "def a_function_requiring_decoration(): \n",
    "    print(\"2. I am the function which needs some decoration to remove my foul smell\")"
   ]
  },
  {
   "cell_type": "code",
   "execution_count": 5,
   "id": "ecf636ec",
   "metadata": {},
   "outputs": [
    {
     "name": "stdout",
     "output_type": "stream",
     "text": [
      "1-1. I am doing some boring work before executing a_func()\n",
      "2. I am the function which needs some decoration to remove my foul smell\n",
      "1-2. I am doing some boring work after executing a_func()\n"
     ]
    }
   ],
   "source": [
    "a_function_requiring_decoration = a_new_decorator(a_function_requiring_decoration)\n",
    "a_function_requiring_decoration()"
   ]
  },
  {
   "cell_type": "markdown",
   "id": "98d8d890",
   "metadata": {},
   "source": [
    "`실행결과` \n",
    "- 이를 해결하는 방법이 바로 `decoration` 이다. \n",
    "- a_new_decorator 함수에 a_function_requiring_decoration 함수를 넘기는 방법을 통해 내용이 한 번만 쓰이게 된다. \n",
    "- 이를 통해 코드의 중복을 줄일 수 있다."
   ]
  },
  {
   "cell_type": "markdown",
   "id": "ab5731a9",
   "metadata": {},
   "source": [
    "### @ 키워드를 통한 decoration"
   ]
  },
  {
   "cell_type": "code",
   "execution_count": 6,
   "id": "d5666f94",
   "metadata": {},
   "outputs": [
    {
     "name": "stdout",
     "output_type": "stream",
     "text": [
      "1-1. I am doing some boring work before executing a_func()\n",
      "I am the function which needs some decoration to remove my foul smell\n",
      "1-2. I am doing some boring work after executing a_func()\n"
     ]
    }
   ],
   "source": [
    "# @를 붙임으로써 a_function_requiring_decoration = a_new_decorator(a_function_requiring_decoration) 이걸 안 해도 된다.\n",
    "@a_new_decorator \n",
    "def a_function_requiring_decoration(): \n",
    "    \"\"\"Hey you! Decorate me!\"\"\"\n",
    "    print(\"I am the function which needs some decoration to \" \"remove my foul smell\")\n",
    "\n",
    "a_function_requiring_decoration() "
   ]
  },
  {
   "cell_type": "code",
   "execution_count": null,
   "id": "945b89ac",
   "metadata": {},
   "outputs": [
    {
     "name": "stdout",
     "output_type": "stream",
     "text": [
      "wrapTheFunction\n"
     ]
    }
   ],
   "source": [
    "# 근데 함수명이 이상하게 나옴. wrapTheFunction\n",
    "print(a_function_requiring_decoration.__name__)"
   ]
  },
  {
   "cell_type": "code",
   "execution_count": null,
   "id": "5e86cfd8",
   "metadata": {},
   "outputs": [
    {
     "name": "stdout",
     "output_type": "stream",
     "text": [
      "a_new_decorator\n"
     ]
    }
   ],
   "source": [
    "print(a_new_decorator.__name__)"
   ]
  },
  {
   "cell_type": "markdown",
   "id": "d844825a",
   "metadata": {},
   "source": [
    "`wrap up`\n",
    "- @ 키워드를 통해 a_function_requiring_decoration를 재정의 하지 않아도 된다.\n",
    "- @ [함수명] 을 decoration 하고 싶은 함수 위에 붙여주면 된다. \n",
    "- 근데 함수 명이 wrapTheFunction 으로 decoration 한 함수의 이름이 그대로 나오게 된다. \n",
    "- 이를 해결하기 위해 wraps 를 이용한다."
   ]
  },
  {
   "cell_type": "markdown",
   "id": "88b73f04",
   "metadata": {},
   "source": [
    "### wraps를 이용해 함수명이 제대로 나오게 할 수 있음"
   ]
  },
  {
   "cell_type": "code",
   "execution_count": 15,
   "id": "40675b60",
   "metadata": {},
   "outputs": [
    {
     "name": "stdout",
     "output_type": "stream",
     "text": [
      "1-1. I am doing some boring work before executing a_func()\n",
      "2. I am the function which needs some decoration to remove my foul smell\n",
      "1-2. I am doing some boring work after executing a_func()\n"
     ]
    }
   ],
   "source": [
    "from functools import wraps\n",
    "\n",
    "# 최종적인 decorator의 일반적인 형태\n",
    "# a_function_requiring_decoration을 a_new_decorator로 decorating 한다는 것이다. \n",
    "# 이 때 decorate 할 함수는 a_func에 지정하고 이를 wraps로 받아서 그 아래 함수로 decoration 함\n",
    "def a_new_decorator(a_func):\n",
    "    @wraps(a_func)\n",
    "    def wrapTheFunction(): \n",
    "        print(\"1-1. I am doing some boring work before executing a_func()\") \n",
    "        a_func() \n",
    "        print(\"1-2. I am doing some boring work after executing a_func()\")\n",
    "\n",
    "    return wrapTheFunction\n",
    "\n",
    "@a_new_decorator \n",
    "def a_function_requiring_decoration(): \n",
    "    \"\"\"Hey you! Decorate me!\"\"\"\n",
    "    print(\"2. I am the function which needs some decoration to \" \"remove my foul smell\")\n",
    "\n",
    "a_function_requiring_decoration() \n"
   ]
  },
  {
   "cell_type": "code",
   "execution_count": 14,
   "id": "397fc21a",
   "metadata": {},
   "outputs": [
    {
     "name": "stdout",
     "output_type": "stream",
     "text": [
      "a_function_requiring_decoration\n"
     ]
    }
   ],
   "source": [
    "# a_function_requiring_decoration  \n",
    "print(a_function_requiring_decoration.__name__)  "
   ]
  },
  {
   "cell_type": "markdown",
   "id": "dd154436",
   "metadata": {},
   "source": [
    "`Wrap up`\n",
    "- 이렇게 decorator에 wraps를 붙여주면, 그 함수를 decoration 해주는 함수로 인식을 하게 된다. \n",
    "- 함수명도 기존의 함수 명인 a_function_requiring_decoration 을 따르게 된다."
   ]
  },
  {
   "cell_type": "markdown",
   "id": "7c4a1fa6",
   "metadata": {},
   "source": [
    "### Decoration 활용의 좋은 예 - Authentication\n",
    "> authentication_check라는 함수를 만들고 이곳에서는 웹어플리케이션서의 사용자 인증을 체크한다고 하자. <br/>\n",
    "> 만약 다른 함수를 실행할 때, 그 함수의 위에다가 위에다가 @authentication_check 만 붙이면, authentication을 알아서 해주게 된다. <br/> \n",
    "> 즉, `Authentication - function 실행 순`으로 알아서 만들어 준다.  <br/>\n",
    "> 이것이 좋은 점은 각 함수마다 authentication check를 안해도되고, authentication check logic을 딱 한 번만 쓰면 된다. <br/>\n",
    "> 이런건 `Java에서는 보통 상속`을 이용해서 하는데, `python에서는 decorator`로 할 수 있다.\n"
   ]
  },
  {
   "cell_type": "code",
   "execution_count": 16,
   "id": "5306fd5c",
   "metadata": {},
   "outputs": [],
   "source": [
    "\"\"\"\n",
    "Use case : Authorization \n",
    "Now let’s take a look at the areas where decorators really shine and their usage makes something really easy to manage.\n",
    "Decorators can help to check whether someone is authorized to use an endpoint in a web application. \n",
    "They are extensively used in Flask web framework and Django. Here is an example to employ decorator based authentication:\n",
    "\"\"\"\n",
    "\n",
    "# decorator 함수\n",
    "def requires_auth(f): \n",
    "    @wraps(f) \n",
    "    def decorated(*args, **kwargs): \n",
    "        auth = request.authorization \n",
    "        if not auth or not check_auth(auth.username, auth.password): \n",
    "                authenticate()\n",
    "        return f(*args, **kwargs) \n",
    "    return decorated\n"
   ]
  },
  {
   "cell_type": "markdown",
   "id": "2e8f2845",
   "metadata": {},
   "source": [
    "- 위 `require_auth` 함수는 어떤 함수 f를 받아서 그 전에 authorization 과정을 수행해주는 decorator이다. \n"
   ]
  },
  {
   "cell_type": "code",
   "execution_count": null,
   "id": "91e85c0b",
   "metadata": {},
   "outputs": [],
   "source": []
  },
  {
   "cell_type": "markdown",
   "id": "abd35a84",
   "metadata": {},
   "source": []
  }
 ],
 "metadata": {
  "kernelspec": {
   "display_name": "base",
   "language": "python",
   "name": "python3"
  },
  "language_info": {
   "codemirror_mode": {
    "name": "ipython",
    "version": 3
   },
   "file_extension": ".py",
   "mimetype": "text/x-python",
   "name": "python",
   "nbconvert_exporter": "python",
   "pygments_lexer": "ipython3",
   "version": "3.12.7"
  }
 },
 "nbformat": 4,
 "nbformat_minor": 5
}
